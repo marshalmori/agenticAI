{
 "cells": [
  {
   "cell_type": "markdown",
   "id": "2db2145c",
   "metadata": {},
   "source": [
    "#### 1. Fazer o import do dotenv"
   ]
  },
  {
   "cell_type": "markdown",
   "id": "c246fc73",
   "metadata": {},
   "source": [
    " <span style=\"color:#ff7800;\">Agora, experimente este aplicativo comercial:<br/>\n",
    "            Primeiro, peça ao LLM para escolher uma área de negócios que valha a pena explorar para obter uma oportunidade de IA agêntica.<br/>\n",
    "            Em seguida, peça ao LLM para apresentar um ponto problemático nesse setor, algo desafiador que possa estar pronto para uma solução agêntica.<br/>\n",
    "            Por fim, peça a três terceiros LLMs que proponham a solução de IA agêntica. <br/>\n",
    "            Abordaremos esse assunto nos próximos laboratórios, portanto, não se preocupe se estiver inseguro... apenas tente!\n",
    "            </span>"
   ]
  },
  {
   "cell_type": "code",
   "execution_count": 1,
   "id": "cd250e09",
   "metadata": {},
   "outputs": [],
   "source": [
    "from dotenv import load_dotenv"
   ]
  },
  {
   "cell_type": "code",
   "execution_count": 2,
   "id": "983c9384",
   "metadata": {},
   "outputs": [
    {
     "data": {
      "text/plain": [
       "True"
      ]
     },
     "execution_count": 2,
     "metadata": {},
     "output_type": "execute_result"
    }
   ],
   "source": [
    "load_dotenv(override=True)"
   ]
  },
  {
   "cell_type": "code",
   "execution_count": 3,
   "id": "8bffb9a8",
   "metadata": {},
   "outputs": [
    {
     "name": "stdout",
     "output_type": "stream",
     "text": [
      "A chave de API da OpenAI existe e começa com: sk-proj-4o\n"
     ]
    }
   ],
   "source": [
    "import os\n",
    "openai_api_key = os.getenv(\"OPENAI_API_KEY\")\n",
    "\n",
    "if openai_api_key:\n",
    "    print(f'A chave de API da OpenAI existe e começa com: {openai_api_key[:10]}')\n",
    "else:\n",
    "    print(\"A chave de API da OpenAI não foi encontrada, por favor verifique o arqivo .env\")"
   ]
  },
  {
   "cell_type": "code",
   "execution_count": 4,
   "id": "f0c0c501",
   "metadata": {},
   "outputs": [],
   "source": [
    "from openai import OpenAI"
   ]
  },
  {
   "cell_type": "code",
   "execution_count": 16,
   "id": "9c6267dd",
   "metadata": {},
   "outputs": [],
   "source": [
    "openai = OpenAI()"
   ]
  },
  {
   "cell_type": "code",
   "execution_count": 17,
   "id": "ff582c47",
   "metadata": {},
   "outputs": [],
   "source": [
    "question_1 = \"\"\"Você é um especialista sobre Agentes de inteligência Artificial.\n",
    "                Escolha uma área de negócios que valha a pena explorar para obter\n",
    "                uma oportunidade de ganhar dinheiro com Agentes de IA.\"\"\""
   ]
  },
  {
   "cell_type": "code",
   "execution_count": 18,
   "id": "4c68dc86",
   "metadata": {},
   "outputs": [],
   "source": [
    "messages = [\n",
    "    {\n",
    "    \"role\": \"user\",\n",
    "    \"content\": question_1\n",
    "    }\n",
    "]"
   ]
  },
  {
   "cell_type": "code",
   "execution_count": 20,
   "id": "0fcb4c7b",
   "metadata": {},
   "outputs": [],
   "source": [
    "response = openai.chat.completions.create(\n",
    "    model=\"gpt-4.1-mini\",\n",
    "    messages=messages\n",
    ")"
   ]
  },
  {
   "cell_type": "code",
   "execution_count": 23,
   "id": "29986863",
   "metadata": {},
   "outputs": [],
   "source": [
    "business_idea = response.choices[0].message.content"
   ]
  },
  {
   "cell_type": "code",
   "execution_count": 32,
   "id": "3e920945",
   "metadata": {},
   "outputs": [
    {
     "data": {
      "text/markdown": [
       "Claro! Uma área de negócios bastante promissora para explorar com agentes de inteligência artificial é o **atendimento ao cliente automatizado e personalizado**.\n",
       "\n",
       "### Por que atendimento ao cliente com agentes de IA?\n",
       "\n",
       "1. **Demanda crescente:** Empresas de todos os portes buscam oferecer suporte 24/7 sem aumentar drasticamente o custo com equipes humanas.\n",
       "2. **Escalabilidade:** Agentes de IA podem lidar com múltiplos clientes simultaneamente, aumentando a eficiência.\n",
       "3. **Personalização:** Com machine learning e análise de dados, os agentes podem oferecer respostas e recomendações adaptadas ao perfil do cliente, aumentando a satisfação e a fidelização.\n",
       "4. **Redução de custos:** Automatizar atendimentos simples e frequentes libera os humanos para resolver casos mais complexos, reduzindo custos operacionais.\n",
       "5. **Multicanalidade:** Os agentes podem atuar em chat online, WhatsApp, redes sociais, voz (IVR), e-mails, entre outros.\n",
       "\n",
       "### Modelos de negócio possíveis:\n",
       "\n",
       "- Desenvolver e licenciar uma plataforma de atendimento com agentes de IA personalizada para nichos específicos (e-commerce, serviços financeiros, saúde).\n",
       "- Oferecer serviços de integração e customização para grandes empresas.\n",
       "- Criar bots especializados para tarefas específicas (agendamento, suporte técnico, vendas) e vender como SaaS.\n",
       "- Monetizar com suporte e análise avançada dos dados de atendimento para gerar insights de negócios.\n",
       "\n",
       "### Exemplo prático:\n",
       "\n",
       "Imagine uma startup que cria um agente de IA para lojas de e-commerce que não apenas responde perguntas sobre produtos, entregas e devoluções, mas também recomenda produtos baseados no histórico do cliente e comportamento site, aumentando as chances de venda.\n",
       "\n",
       "---\n",
       "\n",
       "Se desejar, posso ajudar a aprofundar o plano ou sugerir outras áreas emergentes! Quer?"
      ],
      "text/plain": [
       "<IPython.core.display.Markdown object>"
      ]
     },
     "metadata": {},
     "output_type": "display_data"
    }
   ],
   "source": [
    "from IPython.display import Markdown, display\n",
    "\n",
    "display(Markdown(business_idea))"
   ]
  },
  {
   "cell_type": "code",
   "execution_count": 33,
   "id": "9cb9af25",
   "metadata": {},
   "outputs": [],
   "source": [
    "question_2 = f\"\"\"A seguir receberá uma área que vale a pena ser explorada com agentes de IA.\n",
    "                {business_idea}.\n",
    "                Apresente um ponto problemático nesta área, algo desafiador que possa ser resolvido\n",
    "                com a aplicação de agentes de IA.\"\"\""
   ]
  },
  {
   "cell_type": "code",
   "execution_count": 34,
   "id": "63d821cd",
   "metadata": {},
   "outputs": [],
   "source": [
    "messages = [\n",
    "    {\n",
    "    \"role\": \"user\",\n",
    "    \"content\": question_2\n",
    "    }\n",
    "]"
   ]
  },
  {
   "cell_type": "code",
   "execution_count": 35,
   "id": "6a09e7af",
   "metadata": {},
   "outputs": [],
   "source": [
    "response = openai.chat.completions.create(\n",
    "    model=\"gpt-4.1-mini\",\n",
    "    messages=messages\n",
    ")"
   ]
  },
  {
   "cell_type": "code",
   "execution_count": 36,
   "id": "1029a139",
   "metadata": {},
   "outputs": [],
   "source": [
    "challenge = response.choices[0].message.content"
   ]
  },
  {
   "cell_type": "code",
   "execution_count": 37,
   "id": "6eba9979",
   "metadata": {},
   "outputs": [
    {
     "data": {
      "text/markdown": [
       "Um ponto problemático desafiador no atendimento ao cliente automatizado e personalizado é o **entendimento preciso e contextual das intenções complexas e ambíguas dos clientes em conversas naturais**.\n",
       "\n",
       "### Por que isso é um desafio?\n",
       "\n",
       "- Muitas vezes, os clientes não expressam suas dúvidas ou problemas de forma clara e direta. Podem usar gírias, erros de digitação, frases incompletas ou até mensagens que misturam várias questões.\n",
       "- Além disso, o mesmo texto pode ter diferentes significados dependendo do contexto, histórico do cliente ou estado emocional.\n",
       "- Agentes de IA precisam interpretar essas nuances para oferecer respostas relevantes, evitar frustrações e encaminhar corretamente casos que exigem atendimento humano.\n",
       "\n",
       "### Como agentes de IA podem ajudar a resolver?\n",
       "\n",
       "- Utilizando modelos avançados de processamento de linguagem natural (PLN) e entendimento contextual (como transformers e aprendizado por reforço com feedback humano) para melhorar a compreensão das intenções reais dos clientes.\n",
       "- Aplicando análise de sentimento para identificar emoções e ajustar o tom da resposta.\n",
       "- Incorporando histórico do cliente e dados contextuais para desambiguar mensagens e personalizar soluções.\n",
       "- Detectando automaticamente quando o agente está com dificuldade e transferindo proativamente para um atendente humano, reduzindo abandono e insatisfação.\n",
       "\n",
       "Esse ponto problemático, quando bem abordado com agentes de IA sofisticados, pode resultar em interações mais naturais, efetivas e satisfatórias para o cliente, diferenciando a solução no mercado."
      ],
      "text/plain": [
       "<IPython.core.display.Markdown object>"
      ]
     },
     "metadata": {},
     "output_type": "display_data"
    }
   ],
   "source": [
    "from IPython.display import Markdown, display\n",
    "\n",
    "display(Markdown(challenge))"
   ]
  }
 ],
 "metadata": {
  "kernelspec": {
   "display_name": "agenticai",
   "language": "python",
   "name": "python3"
  },
  "language_info": {
   "codemirror_mode": {
    "name": "ipython",
    "version": 3
   },
   "file_extension": ".py",
   "mimetype": "text/x-python",
   "name": "python",
   "nbconvert_exporter": "python",
   "pygments_lexer": "ipython3",
   "version": "3.12.7"
  }
 },
 "nbformat": 4,
 "nbformat_minor": 5
}
