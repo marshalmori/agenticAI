{
 "cells": [
  {
   "cell_type": "code",
   "execution_count": 1,
   "id": "acf538fc",
   "metadata": {},
   "outputs": [],
   "source": [
    "from dotenv import load_dotenv"
   ]
  },
  {
   "cell_type": "code",
   "execution_count": 2,
   "id": "ace50629",
   "metadata": {},
   "outputs": [
    {
     "data": {
      "text/plain": [
       "True"
      ]
     },
     "execution_count": 2,
     "metadata": {},
     "output_type": "execute_result"
    }
   ],
   "source": [
    "load_dotenv(override=True)"
   ]
  },
  {
   "cell_type": "code",
   "execution_count": 3,
   "id": "719854e3",
   "metadata": {},
   "outputs": [
    {
     "name": "stdout",
     "output_type": "stream",
     "text": [
      "A chave de API da OpenAI exite e começa com: sk-proj-4o\n"
     ]
    }
   ],
   "source": [
    "import os\n",
    "open_ai_api = os.getenv('OPENAI_API_KEY')\n",
    "\n",
    "if open_ai_api:\n",
    "    print(f'A chave de API da OpenAI exite e começa com: {open_ai_api[:10]}')\n",
    "else:\n",
    "    print(\"A chave da API da OpenAI não foi configurada no arquivo .env\")"
   ]
  },
  {
   "cell_type": "code",
   "execution_count": 4,
   "id": "2b873ff6",
   "metadata": {},
   "outputs": [],
   "source": [
    "from openai import OpenAI"
   ]
  },
  {
   "cell_type": "code",
   "execution_count": 5,
   "id": "bfc7022d",
   "metadata": {},
   "outputs": [],
   "source": [
    "openai = OpenAI()"
   ]
  },
  {
   "cell_type": "code",
   "execution_count": 6,
   "id": "73a412ad",
   "metadata": {},
   "outputs": [],
   "source": [
    "# Cria uma lista de mensagens no formato da API da OpenAI\n",
    "messages = [{\"role\": \"user\", \"content\": 'Quem foi Nikola Tesla?'}]"
   ]
  },
  {
   "cell_type": "code",
   "execution_count": 7,
   "id": "381d4ec1",
   "metadata": {},
   "outputs": [],
   "source": [
    "response = openai.chat.completions.create(\n",
    "    model='gpt-4.1-nano',\n",
    "    messages=messages\n",
    ")"
   ]
  },
  {
   "cell_type": "code",
   "execution_count": 8,
   "id": "de989625",
   "metadata": {},
   "outputs": [
    {
     "name": "stdout",
     "output_type": "stream",
     "text": [
      "Nikola Tesla foi um inventor, engenheiro elétrico, engenheiro mecânico e futurista sobrenome de origem sérvia, nascido em 10 de julho de 1856 em Smiljan, que hoje é na Croácia. Ele é amplamente reconhecido por suas contribuições revolucionárias no campo da eletricidade e magnetismo no final do século XIX e início do século XX.\n",
      "\n",
      "Tesla é mais conhecido pelo desenvolvimento do sistema de corrente alternada (CA), que se tornou a base para a transmissão moderna de eletricidade, permitindo a distribuição eficiente de energia em longas distâncias. Ele também realizou importantes trabalhos em rádio (antes de Marconi), telefonia sem fio, transmissão de energia sem fios, indução de motores elétricos, entre outros.\n",
      "\n",
      "Apesar de suas invenções e conceitos inovadores, Tesla enfrentou dificuldades financeiras ao longo da vida e morreu em relativa obscuridade em 7 de janeiro de 1943, em Nova York. Hoje, ele é considerado uma figura épica na história da ciência e tecnologia, frequentemente lembrado como um visionário cujo trabalho abriu o caminho para muitas tecnologias modernas.\n"
     ]
    }
   ],
   "source": [
    "print(response.choices[0].message.content)"
   ]
  },
  {
   "cell_type": "code",
   "execution_count": 9,
   "id": "7ef19796",
   "metadata": {},
   "outputs": [],
   "source": [
    "# Fazendo uma nova pergunta agora usando o modelo GPT 4.1 mini que é mais poderoso que o nano\n",
    "\n",
    "question = \"Por favor, proponha uma pergunta difícil e desafiadora para avaliar o QI de alguém. Responda apenas com a pergunta.\"\n",
    "messages = [{\"role\": \"user\", \"content\": question}]"
   ]
  },
  {
   "cell_type": "code",
   "execution_count": 11,
   "id": "b189336a",
   "metadata": {},
   "outputs": [
    {
     "name": "stdout",
     "output_type": "stream",
     "text": [
      "Se você tem oito cordas, cada uma queimando em tempos diferentes e de forma irregular, e uma delas leva exatamente 60 minutos para queimar completamente, como você pode medir exatamente 45 minutos utilizando somente essas cordas e um isqueiro?\n"
     ]
    }
   ],
   "source": [
    "response = openai.chat.completions.create(\n",
    "    model=\"gpt-4.1-mini\",\n",
    "    messages=messages\n",
    ")\n",
    "\n",
    "question = response.choices[0].message.content\n",
    "\n",
    "print(question)\n",
    "\n"
   ]
  },
  {
   "cell_type": "code",
   "execution_count": 12,
   "id": "8736c8b3",
   "metadata": {},
   "outputs": [],
   "source": [
    "messages = [{\"role\": \"user\", \"content\": question}]"
   ]
  },
  {
   "cell_type": "code",
   "execution_count": 13,
   "id": "d830cf27",
   "metadata": {},
   "outputs": [
    {
     "name": "stdout",
     "output_type": "stream",
     "text": [
      "Este é um problema clássico de medição de tempo utilizando cordas que queimam de forma irregular.\n",
      "\n",
      "### O que sabemos:\n",
      "- Você tem 8 cordas, cada uma queima irregularmente, ou seja, não queima a uma velocidade constante.\n",
      "- Apenas uma corda queima exatamente 60 minutos **do começo ao fim**.\n",
      "- Você tem um isqueiro para acender as cordas.\n",
      "- O objetivo é medir exatamente 45 minutos.\n",
      "\n",
      "---\n",
      "\n",
      "### Passos para medir 45 minutos\n",
      "\n",
      "1. **Use a corda que queima exatamente 60 minutos.**\n",
      "\n",
      "   Essa é a única corda que sabemos que leva exatamente 60 minutos para queimar da ponta A até a ponta B, apesar de queimar de forma irregular (velocidade variável).\n",
      "\n",
      "2. **Acenda as duas extremidades dela ao mesmo tempo.**\n",
      "\n",
      "   Se você acender as duas pontas da corda com 60 minutos ao mesmo tempo, a chama vai se encontrar no meio da corda em exatamente **30 minutos** – porque queimar a corda toda de uma ponta até a outra leva 60 minutos, e acendendo as duas extremidades de ao mesmo tempo diminui o tempo para 30 minutos, mesmo que queime irregularmente.\n",
      "\n",
      "3. **Agora, logo após 30 minutos (quando a corda de 60 minutos terminar de queimar), acenda uma outra corda qualquer (que queima num tempo desconhecido, não importa).**\n",
      "\n",
      "   Como a questão não limita usar nem a outra(s) corda(s), acenda uma segunda corda.\n",
      "\n",
      "4. **Simultaneamente, acenda a outra extremidade dessa segunda corda também.**\n",
      "\n",
      "   Se você acender as duas extremidades de qualquer outra corda, ela queima em metade do tempo normal que levaria para queimar essa corda inteira.\n",
      "\n",
      "5. **Agora, acenda uma das extremidades da segunda corda no instante que a primeira corda terminar, e a outra extremidade também.**\n",
      "\n",
      "   Como a segunda corda queima irregularmente e você não sabe o tempo total, esta abordagem não garante o tempo exato de 15 minutos.\n",
      "\n",
      "---\n",
      "\n",
      "### Como medir exatamente 45 minutos com apenas a corda de 60 minutos:\n",
      "\n",
      "Outra forma de pensar, sem depender tremendamente das outras cordas:\n",
      "\n",
      "- Acenda uma extremidade da corda de 60 minutos;\n",
      "- Ao mesmo tempo, acenda a outra extremidade da mesma corda **em um ponto qualquer no meio do processo, para \"dividir\" a queima**?\n",
      "\n",
      "Não, isso não é possível medindo 45 minutos com uma corda que leva 60 minutos.\n",
      "\n",
      "---\n",
      "\n",
      "### Solução correta para 45 minutos usando apenas a corda de 60':\n",
      "\n",
      "**A maneira clássica:**\n",
      "\n",
      "- Acenda a corda de 60 minutos pelas duas extremidades **ao mesmo tempo** → leva 30 minutos para queimar completamente.\n",
      "\n",
      "- No instante em que ela terminar (30 minutos), acenda a mesma corda ou uma diferente **apenas por uma extremidade** → como queima completa levaria 60 minutos, a metade desse tempo (30 minutos) somado aos primeiros 30 minutos dá 60 minutos, mas precisamos de 45.\n",
      "\n",
      "---\n",
      "\n",
      "### Como medir 45 minutos:\n",
      "\n",
      "1. Acenda a corda de 60 minutos pelas **duas extremidades** ao mesmo tempo. A corda queima completamente em 30 minutos.\n",
      "\n",
      "2. Assim que a corda terminar de queimar (ou seja, depois de 30 minutos), acenda a corda de **60 minutos novamente, desta vez apenas por uma extremidade**. Como essa corda demora 60 minutos para queimar toda ela, você não vai esperar que termine, vai esperar a metade do tempo dela que é 30 minutos, mas 30 + 30 = 60, e quer 45.\n",
      "\n",
      "Portanto, precisamos considerar outra maneira:\n",
      "\n",
      "---\n",
      "\n",
      "### Jeito definitivo\n",
      "\n",
      "Use **uma única corda de 60 minutos** e acenda as duas extremidades para queimar em 30 minutos.\n",
      "\n",
      "Ainda enquanto essa corda está queimando, acenda **uma extremidade da segunda corda de 60 minutos**.\n",
      "\n",
      "Suponha que você acenda a outra corda ao mesmo tempo na outra ponta.\n",
      "\n",
      "Como cada corda queima de modo irregular, o jeito clássico é:\n",
      "\n",
      "- Acenda a corda de 60 minutos nas duas extremidades → queima em 30 minutos.\n",
      "- Ao mesmo tempo, acenda a outra corda de 60 minutos apenas de uma extremidade.\n",
      "- Quando a primeira corda terminar (30 minutos), acenda a outra ponta da segunda corda, fazendo-a queimar das duas pontas.\n",
      "\n",
      "---\n",
      "\n",
      "### Por que isso funciona?\n",
      "\n",
      "- A segunda corda está queimando por uma ponta durante 30 minutos (enquanto a primeira está queimando das duas pontas).\n",
      "- Quando a segunda ponta da segunda corda for acesa, restarão 30 minutos de fogo, porém o fogo vai queimar duas extremidades e se encontrar em metade desse tempo, ou seja, em **15 minutos**.\n",
      "\n",
      "- Então, total: 30 minutos (primeira corda queima das duas pontas) +\n",
      "15 minutos (segunda corda queimando das duas pontas, após já ter queimado 30 minutos de uma ponta)\n",
      "= **45 minutos**.\n",
      "\n",
      "---\n",
      "\n",
      "### Passo a passo final\n",
      "\n",
      "1. Você tem 2 cordas que queimam 60 minutos cada uma, mas queima irregularmente.\n",
      "\n",
      "2. **Ao mesmo tempo, acenda**:\n",
      "\n",
      "   - A corda 1 **pelas duas extremidades**;\n",
      "   - A corda 2 **apenas por uma extremidade**.\n",
      "\n",
      "3. Quando a corda 1 acabar (após 30 minutos), acenda a outra extremidade da corda 2 (agora ela está queimando pelas duas extremidades).\n",
      "\n",
      "4. A corda 2 leva 30 minutos para queimar totalmente. Já que 30 minutos se passaram queimando por 1 ponta, o restante vai levar 30 minutos. Agora, queimada pelas duas pontas, a corda 2 vai queimar esse restante em metade do tempo: 15 minutos.\n",
      "\n",
      "5. Logo, você terá contado exatamente 45 minutos (30 + 15).\n",
      "\n",
      "---\n",
      "\n",
      "Se precisar, as outras cordas da questão podem ser descartadas, já que só precisa dessas duas cordas que queimam 60 minutos. Se possuir 8 delas, não tem problema.\n",
      "\n",
      "---\n",
      "\n",
      "### Resumo:\n",
      "\n",
      "- Acenda a corda 1 pelas duas extremidades e a corda 2 por uma extremidade, ao mesmo tempo.\n",
      "- Quando a corda 1 terminar, acenda a outra extremidade da corda 2.\n",
      "- A queima da corda 2, agora pelas duas extremidades, vai durar 15 minutos.\n",
      "- Total: 30 + 15 = 45 minutos.\n",
      "\n",
      "---\n",
      "\n",
      "Se precisar posso ajudar a esquematizar!\n"
     ]
    }
   ],
   "source": [
    "response = openai.chat.completions.create(\n",
    "    model=\"gpt-4.1-mini\",\n",
    "    messages=messages\n",
    ")\n",
    "\n",
    "answer = response.choices[0].message.content\n",
    "print(answer)\n"
   ]
  },
  {
   "cell_type": "code",
   "execution_count": 14,
   "id": "ff6a3434",
   "metadata": {},
   "outputs": [
    {
     "data": {
      "text/markdown": [
       "Este é um problema clássico de medição de tempo utilizando cordas que queimam de forma irregular.\n",
       "\n",
       "### O que sabemos:\n",
       "- Você tem 8 cordas, cada uma queima irregularmente, ou seja, não queima a uma velocidade constante.\n",
       "- Apenas uma corda queima exatamente 60 minutos **do começo ao fim**.\n",
       "- Você tem um isqueiro para acender as cordas.\n",
       "- O objetivo é medir exatamente 45 minutos.\n",
       "\n",
       "---\n",
       "\n",
       "### Passos para medir 45 minutos\n",
       "\n",
       "1. **Use a corda que queima exatamente 60 minutos.**\n",
       "\n",
       "   Essa é a única corda que sabemos que leva exatamente 60 minutos para queimar da ponta A até a ponta B, apesar de queimar de forma irregular (velocidade variável).\n",
       "\n",
       "2. **Acenda as duas extremidades dela ao mesmo tempo.**\n",
       "\n",
       "   Se você acender as duas pontas da corda com 60 minutos ao mesmo tempo, a chama vai se encontrar no meio da corda em exatamente **30 minutos** – porque queimar a corda toda de uma ponta até a outra leva 60 minutos, e acendendo as duas extremidades de ao mesmo tempo diminui o tempo para 30 minutos, mesmo que queime irregularmente.\n",
       "\n",
       "3. **Agora, logo após 30 minutos (quando a corda de 60 minutos terminar de queimar), acenda uma outra corda qualquer (que queima num tempo desconhecido, não importa).**\n",
       "\n",
       "   Como a questão não limita usar nem a outra(s) corda(s), acenda uma segunda corda.\n",
       "\n",
       "4. **Simultaneamente, acenda a outra extremidade dessa segunda corda também.**\n",
       "\n",
       "   Se você acender as duas extremidades de qualquer outra corda, ela queima em metade do tempo normal que levaria para queimar essa corda inteira.\n",
       "\n",
       "5. **Agora, acenda uma das extremidades da segunda corda no instante que a primeira corda terminar, e a outra extremidade também.**\n",
       "\n",
       "   Como a segunda corda queima irregularmente e você não sabe o tempo total, esta abordagem não garante o tempo exato de 15 minutos.\n",
       "\n",
       "---\n",
       "\n",
       "### Como medir exatamente 45 minutos com apenas a corda de 60 minutos:\n",
       "\n",
       "Outra forma de pensar, sem depender tremendamente das outras cordas:\n",
       "\n",
       "- Acenda uma extremidade da corda de 60 minutos;\n",
       "- Ao mesmo tempo, acenda a outra extremidade da mesma corda **em um ponto qualquer no meio do processo, para \"dividir\" a queima**?\n",
       "\n",
       "Não, isso não é possível medindo 45 minutos com uma corda que leva 60 minutos.\n",
       "\n",
       "---\n",
       "\n",
       "### Solução correta para 45 minutos usando apenas a corda de 60':\n",
       "\n",
       "**A maneira clássica:**\n",
       "\n",
       "- Acenda a corda de 60 minutos pelas duas extremidades **ao mesmo tempo** → leva 30 minutos para queimar completamente.\n",
       "\n",
       "- No instante em que ela terminar (30 minutos), acenda a mesma corda ou uma diferente **apenas por uma extremidade** → como queima completa levaria 60 minutos, a metade desse tempo (30 minutos) somado aos primeiros 30 minutos dá 60 minutos, mas precisamos de 45.\n",
       "\n",
       "---\n",
       "\n",
       "### Como medir 45 minutos:\n",
       "\n",
       "1. Acenda a corda de 60 minutos pelas **duas extremidades** ao mesmo tempo. A corda queima completamente em 30 minutos.\n",
       "\n",
       "2. Assim que a corda terminar de queimar (ou seja, depois de 30 minutos), acenda a corda de **60 minutos novamente, desta vez apenas por uma extremidade**. Como essa corda demora 60 minutos para queimar toda ela, você não vai esperar que termine, vai esperar a metade do tempo dela que é 30 minutos, mas 30 + 30 = 60, e quer 45.\n",
       "\n",
       "Portanto, precisamos considerar outra maneira:\n",
       "\n",
       "---\n",
       "\n",
       "### Jeito definitivo\n",
       "\n",
       "Use **uma única corda de 60 minutos** e acenda as duas extremidades para queimar em 30 minutos.\n",
       "\n",
       "Ainda enquanto essa corda está queimando, acenda **uma extremidade da segunda corda de 60 minutos**.\n",
       "\n",
       "Suponha que você acenda a outra corda ao mesmo tempo na outra ponta.\n",
       "\n",
       "Como cada corda queima de modo irregular, o jeito clássico é:\n",
       "\n",
       "- Acenda a corda de 60 minutos nas duas extremidades → queima em 30 minutos.\n",
       "- Ao mesmo tempo, acenda a outra corda de 60 minutos apenas de uma extremidade.\n",
       "- Quando a primeira corda terminar (30 minutos), acenda a outra ponta da segunda corda, fazendo-a queimar das duas pontas.\n",
       "\n",
       "---\n",
       "\n",
       "### Por que isso funciona?\n",
       "\n",
       "- A segunda corda está queimando por uma ponta durante 30 minutos (enquanto a primeira está queimando das duas pontas).\n",
       "- Quando a segunda ponta da segunda corda for acesa, restarão 30 minutos de fogo, porém o fogo vai queimar duas extremidades e se encontrar em metade desse tempo, ou seja, em **15 minutos**.\n",
       "\n",
       "- Então, total: 30 minutos (primeira corda queima das duas pontas) +\n",
       "15 minutos (segunda corda queimando das duas pontas, após já ter queimado 30 minutos de uma ponta)\n",
       "= **45 minutos**.\n",
       "\n",
       "---\n",
       "\n",
       "### Passo a passo final\n",
       "\n",
       "1. Você tem 2 cordas que queimam 60 minutos cada uma, mas queima irregularmente.\n",
       "\n",
       "2. **Ao mesmo tempo, acenda**:\n",
       "\n",
       "   - A corda 1 **pelas duas extremidades**;\n",
       "   - A corda 2 **apenas por uma extremidade**.\n",
       "\n",
       "3. Quando a corda 1 acabar (após 30 minutos), acenda a outra extremidade da corda 2 (agora ela está queimando pelas duas extremidades).\n",
       "\n",
       "4. A corda 2 leva 30 minutos para queimar totalmente. Já que 30 minutos se passaram queimando por 1 ponta, o restante vai levar 30 minutos. Agora, queimada pelas duas pontas, a corda 2 vai queimar esse restante em metade do tempo: 15 minutos.\n",
       "\n",
       "5. Logo, você terá contado exatamente 45 minutos (30 + 15).\n",
       "\n",
       "---\n",
       "\n",
       "Se precisar, as outras cordas da questão podem ser descartadas, já que só precisa dessas duas cordas que queimam 60 minutos. Se possuir 8 delas, não tem problema.\n",
       "\n",
       "---\n",
       "\n",
       "### Resumo:\n",
       "\n",
       "- Acenda a corda 1 pelas duas extremidades e a corda 2 por uma extremidade, ao mesmo tempo.\n",
       "- Quando a corda 1 terminar, acenda a outra extremidade da corda 2.\n",
       "- A queima da corda 2, agora pelas duas extremidades, vai durar 15 minutos.\n",
       "- Total: 30 + 15 = 45 minutos.\n",
       "\n",
       "---\n",
       "\n",
       "Se precisar posso ajudar a esquematizar!"
      ],
      "text/plain": [
       "<IPython.core.display.Markdown object>"
      ]
     },
     "metadata": {},
     "output_type": "display_data"
    }
   ],
   "source": [
    "from IPython.display import Markdown, display\n",
    "\n",
    "display(Markdown(answer))"
   ]
  }
 ],
 "metadata": {
  "kernelspec": {
   "display_name": "agenticai",
   "language": "python",
   "name": "python3"
  },
  "language_info": {
   "codemirror_mode": {
    "name": "ipython",
    "version": 3
   },
   "file_extension": ".py",
   "mimetype": "text/x-python",
   "name": "python",
   "nbconvert_exporter": "python",
   "pygments_lexer": "ipython3",
   "version": "3.12.7"
  }
 },
 "nbformat": 4,
 "nbformat_minor": 5
}
